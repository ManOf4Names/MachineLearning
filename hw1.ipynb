{
 "cells": [
  {
   "cell_type": "markdown",
   "metadata": {},
   "source": [
    "Problem 6\n",
    "Consider the following algorithm. Run it on Iris.tab and Mnist datasets and report your results.\n",
    "    1) Divide your data into random train and test sets\n",
    "    2) Training: for a specific label, find the average of each feature. (In case of mnist, this is pixel wise).  give your averages. In case of mint, give this as 10 images, one for each label\n",
    "    3) For each data point in the training set, find the closest from the average templates. Use Manhattan, Euclidean and Cosine distances (note that higher cosine value means lower distance). Give the point that label. \n",
    "    4) Do the same for the test set\n",
    "    5) Give the confusion matrix for training and test sets."
   ]
  },
  {
   "cell_type": "code",
   "execution_count": null,
   "metadata": {},
   "outputs": [],
   "source": []
  },
  {
   "cell_type": "markdown",
   "metadata": {},
   "source": [
    "Problem 7\n",
    "Consider the following algorithm. Run it on Iris.tab and Mnist datasets and report your results.\n",
    "    1) Divide your data into random train and test sets\n",
    "    2) Training: k-means clustering for k=1 to k=15 (i.e., run your algorithm 15 times). DO NOT USE LABLES. Give the centroids. In case of mint, give this as k images, one for each label. (you may use a library function)\n",
    "    3) Label a cluster using the majority label found in the cluster. \n",
    "    4) For each data point in the test set, find the closest from the centroid Use Manhattan, Euclidean and Cosine distances (note that higher cosine value means lower distance). Give the point that label. \n",
    "    5) Give the confusion matrix for training and test sets.\n",
    "    6) Form the elbow map - using %correct as a measure. (Test set accuracy)"
   ]
  },
  {
   "cell_type": "code",
   "execution_count": null,
   "metadata": {},
   "outputs": [],
   "source": []
  },
  {
   "cell_type": "markdown",
   "metadata": {},
   "source": [
    "Problem 8\n",
    "Consider the following algorithm. Run it on Iris.tab and Mnist datasets and report your results.\n",
    "    1) Divide your data into random train and test sets\n",
    "    2) Using kNN with Manhattan, Euclidean and cosine distances classify the training and test sets. Do this for k=1, k=5, k=10. (you may use a library function)\n",
    "    3) Give the confusion matrix for training and test sets.\n",
    "    4) Form the elbow map - using %correct as a measure. (Test set accuracy)"
   ]
  },
  {
   "cell_type": "code",
   "execution_count": null,
   "metadata": {},
   "outputs": [],
   "source": []
  }
 ],
 "metadata": {
  "language_info": {
   "name": "python"
  },
  "orig_nbformat": 4
 },
 "nbformat": 4,
 "nbformat_minor": 2
}
